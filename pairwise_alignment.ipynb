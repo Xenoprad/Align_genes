{
  "nbformat": 4,
  "nbformat_minor": 0,
  "metadata": {
    "colab": {
      "provenance": [],
      "authorship_tag": "ABX9TyNYtGpmK6ImVghE8ulQlf7K",
      "include_colab_link": true
    },
    "kernelspec": {
      "name": "python3",
      "display_name": "Python 3"
    },
    "language_info": {
      "name": "python"
    }
  },
  "cells": [
    {
      "cell_type": "markdown",
      "metadata": {
        "id": "view-in-github",
        "colab_type": "text"
      },
      "source": [
        "<a href=\"https://colab.research.google.com/github/Xenoprad/Align_genes/blob/main/pairwise_alignment.ipynb\" target=\"_parent\"><img src=\"https://colab.research.google.com/assets/colab-badge.svg\" alt=\"Open In Colab\"/></a>"
      ]
    },
    {
      "cell_type": "code",
      "source": [
        "!pip install biopython"
      ],
      "metadata": {
        "colab": {
          "base_uri": "https://localhost:8080/"
        },
        "id": "fysrXA05OQ75",
        "outputId": "aa18d7f2-497a-49d0-8ecf-26f37cc6edb5"
      },
      "execution_count": 2,
      "outputs": [
        {
          "output_type": "stream",
          "name": "stdout",
          "text": [
            "Requirement already satisfied: biopython in /usr/local/lib/python3.11/dist-packages (1.85)\n",
            "Requirement already satisfied: numpy in /usr/local/lib/python3.11/dist-packages (from biopython) (2.0.2)\n"
          ]
        }
      ]
    },
    {
      "cell_type": "code",
      "source": [
        "from Bio import Align\n",
        "aligner = Align.PairwiseAligner(match_score=1.0)"
      ],
      "metadata": {
        "id": "0MGSA6KgOWq3"
      },
      "execution_count": 3,
      "outputs": []
    },
    {
      "cell_type": "code",
      "source": [
        "#Defining the sequences for alignment\n",
        "\n",
        "seq_a = \"GGTTAACCCCCCAAT\"\n",
        "seq_b = \"GGTTAACCCCCCAAT\"\n",
        "\n",
        "#Call the Aligner to assign scores\n",
        "\n",
        "score=aligner.score(seq_a, seq_b)\n"
      ],
      "metadata": {
        "id": "8W46GVLXOaZy"
      },
      "execution_count": 4,
      "outputs": []
    },
    {
      "cell_type": "code",
      "source": [
        "#To print the align score\n",
        "print(f\"the alignment score{score}\")\n",
        "#For the exact alignment map in global alignment\n",
        "\n",
        "Alignments = aligner.align(seq_a, seq_b)"
      ],
      "metadata": {
        "colab": {
          "base_uri": "https://localhost:8080/"
        },
        "id": "xc3Rx4vIOiLC",
        "outputId": "1460547d-fad2-4b70-f91e-216abcb2bef5"
      },
      "execution_count": 5,
      "outputs": [
        {
          "output_type": "stream",
          "name": "stdout",
          "text": [
            "the alignment score15.0\n"
          ]
        }
      ]
    },
    {
      "cell_type": "code",
      "source": [
        "#Using for loop\n",
        "\n",
        "for alignment in Alignments:\n",
        "    print(alignment)\n",
        "  #For the alignment score in local alignment\n",
        "\n",
        "Align.mode=\"Local\"\n",
        "\n",
        "seq_1 = 'AATTCCGG'\n",
        "seq_2 = 'ATTCG'\n",
        "Local_score = aligner.score(seq_1,seq_2)\n",
        "print(f\"the local alignment score is {Local_score}\")"
      ],
      "metadata": {
        "colab": {
          "base_uri": "https://localhost:8080/"
        },
        "id": "wbcs48fVOl2i",
        "outputId": "915f575f-d646-44e2-ce56-92ab18359a1a"
      },
      "execution_count": 6,
      "outputs": [
        {
          "output_type": "stream",
          "name": "stdout",
          "text": [
            "target            0 GGTTAACCCCCCAAT 15\n",
            "                  0 ||||||||||||||| 15\n",
            "query             0 GGTTAACCCCCCAAT 15\n",
            "\n",
            "the local alignment score is 5.0\n"
          ]
        }
      ]
    },
    {
      "cell_type": "code",
      "source": [
        "#For the alignment map in local alignment\n",
        "\n",
        "Align_Local = aligner.align(seq_1,seq_2)\n",
        "\n",
        "for alignment in Align_Local:\n",
        "    print(alignment)"
      ],
      "metadata": {
        "colab": {
          "base_uri": "https://localhost:8080/"
        },
        "id": "A-kCl7L9OqtD",
        "outputId": "fb9c22ed-c40d-4bc6-8951-86168035449e"
      },
      "execution_count": 7,
      "outputs": [
        {
          "output_type": "stream",
          "name": "stdout",
          "text": [
            "target            0 AATTCCGG 8\n",
            "                  0 |-|||-|- 8\n",
            "query             0 A-TTC-G- 5\n",
            "\n",
            "target            0 AATTCCGG 8\n",
            "                  0 -||||-|- 8\n",
            "query             0 -ATTC-G- 5\n",
            "\n",
            "target            0 AATTCCGG 8\n",
            "                  0 |-||-||- 8\n",
            "query             0 A-TT-CG- 5\n",
            "\n",
            "target            0 AATTCCGG 8\n",
            "                  0 -|||-||- 8\n",
            "query             0 -ATT-CG- 5\n",
            "\n",
            "target            0 AATTCCGG 8\n",
            "                  0 |-|||--| 8\n",
            "query             0 A-TTC--G 5\n",
            "\n",
            "target            0 AATTCCGG 8\n",
            "                  0 -||||--| 8\n",
            "query             0 -ATTC--G 5\n",
            "\n",
            "target            0 AATTCCGG 8\n",
            "                  0 |-||-|-| 8\n",
            "query             0 A-TT-C-G 5\n",
            "\n",
            "target            0 AATTCCGG 8\n",
            "                  0 -|||-|-| 8\n",
            "query             0 -ATT-C-G 5\n",
            "\n"
          ]
        }
      ]
    }
  ]
}