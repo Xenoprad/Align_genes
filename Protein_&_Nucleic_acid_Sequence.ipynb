{
  "nbformat": 4,
  "nbformat_minor": 0,
  "metadata": {
    "colab": {
      "provenance": [],
      "authorship_tag": "ABX9TyNTt1wEM5WBkBS+zgfA9kuD",
      "include_colab_link": true
    },
    "kernelspec": {
      "name": "python3",
      "display_name": "Python 3"
    },
    "language_info": {
      "name": "python"
    }
  },
  "cells": [
    {
      "cell_type": "markdown",
      "metadata": {
        "id": "view-in-github",
        "colab_type": "text"
      },
      "source": [
        "<a href=\"https://colab.research.google.com/github/Xenoprad/Align_genes/blob/main/Protein_%26_Nucleic_acid_Sequence.ipynb\" target=\"_parent\"><img src=\"https://colab.research.google.com/assets/colab-badge.svg\" alt=\"Open In Colab\"/></a>"
      ]
    },
    {
      "cell_type": "markdown",
      "source": [
        "[1] # Multiple Sequence Alignment of Cytochrome c Protein and Nucleotide Sequences\n"
      ],
      "metadata": {
        "id": "vgg2BBYg0-mD"
      }
    },
    {
      "cell_type": "code",
      "execution_count": null,
      "metadata": {
        "colab": {
          "base_uri": "https://localhost:8080/"
        },
        "id": "F8aMdD4JQpAW",
        "outputId": "adeea720-1a7d-4704-b93f-15081c677bc7"
      },
      "outputs": [
        {
          "output_type": "stream",
          "name": "stdout",
          "text": [
            "Collecting Biopython\n",
            "  Downloading biopython-1.85-cp311-cp311-manylinux_2_17_x86_64.manylinux2014_x86_64.whl.metadata (13 kB)\n",
            "Requirement already satisfied: numpy in /usr/local/lib/python3.11/dist-packages (from Biopython) (2.0.2)\n",
            "Downloading biopython-1.85-cp311-cp311-manylinux_2_17_x86_64.manylinux2014_x86_64.whl (3.3 MB)\n",
            "\u001b[?25l   \u001b[90m━━━━━━━━━━━━━━━━━━━━━━━━━━━━━━━━━━━━━━━━\u001b[0m \u001b[32m0.0/3.3 MB\u001b[0m \u001b[31m?\u001b[0m eta \u001b[36m-:--:--\u001b[0m\r\u001b[2K   \u001b[91m━━━━━━━━━━━\u001b[0m\u001b[91m╸\u001b[0m\u001b[90m━━━━━━━━━━━━━━━━━━━━━━━━━━━━\u001b[0m \u001b[32m1.0/3.3 MB\u001b[0m \u001b[31m29.4 MB/s\u001b[0m eta \u001b[36m0:00:01\u001b[0m\r\u001b[2K   \u001b[91m━━━━━━━━━━━━━━━━━━━━━━━━━━━━━━━━━━━━━━━\u001b[0m\u001b[91m╸\u001b[0m \u001b[32m3.3/3.3 MB\u001b[0m \u001b[31m57.0 MB/s\u001b[0m eta \u001b[36m0:00:01\u001b[0m\r\u001b[2K   \u001b[90m━━━━━━━━━━━━━━━━━━━━━━━━━━━━━━━━━━━━━━━━\u001b[0m \u001b[32m3.3/3.3 MB\u001b[0m \u001b[31m39.6 MB/s\u001b[0m eta \u001b[36m0:00:00\u001b[0m\n",
            "\u001b[?25hInstalling collected packages: Biopython\n",
            "Successfully installed Biopython-1.85\n",
            "Reading package lists... Done\n",
            "Building dependency tree... Done\n",
            "Reading state information... Done\n",
            "The following additional packages will be installed:\n",
            "  libargtable2-0\n",
            "The following NEW packages will be installed:\n",
            "  clustalo libargtable2-0\n",
            "0 upgraded, 2 newly installed, 0 to remove and 35 not upgraded.\n",
            "Need to get 273 kB of archives.\n",
            "After this operation, 694 kB of additional disk space will be used.\n",
            "Get:1 http://archive.ubuntu.com/ubuntu jammy/universe amd64 libargtable2-0 amd64 13-1.1 [14.1 kB]\n",
            "Get:2 http://archive.ubuntu.com/ubuntu jammy/universe amd64 clustalo amd64 1.2.4-7 [259 kB]\n",
            "Fetched 273 kB in 0s (606 kB/s)\n",
            "Selecting previously unselected package libargtable2-0.\n",
            "(Reading database ... 126308 files and directories currently installed.)\n",
            "Preparing to unpack .../libargtable2-0_13-1.1_amd64.deb ...\n",
            "Unpacking libargtable2-0 (13-1.1) ...\n",
            "Selecting previously unselected package clustalo.\n",
            "Preparing to unpack .../clustalo_1.2.4-7_amd64.deb ...\n",
            "Unpacking clustalo (1.2.4-7) ...\n",
            "Setting up libargtable2-0 (13-1.1) ...\n",
            "Setting up clustalo (1.2.4-7) ...\n",
            "Processing triggers for libc-bin (2.35-0ubuntu3.8) ...\n",
            "/sbin/ldconfig.real: /usr/local/lib/libtbb.so.12 is not a symbolic link\n",
            "\n",
            "/sbin/ldconfig.real: /usr/local/lib/libhwloc.so.15 is not a symbolic link\n",
            "\n",
            "/sbin/ldconfig.real: /usr/local/lib/libtcm.so.1 is not a symbolic link\n",
            "\n",
            "/sbin/ldconfig.real: /usr/local/lib/libtbbbind_2_5.so.3 is not a symbolic link\n",
            "\n",
            "/sbin/ldconfig.real: /usr/local/lib/libur_loader.so.0 is not a symbolic link\n",
            "\n",
            "/sbin/ldconfig.real: /usr/local/lib/libtbbbind.so.3 is not a symbolic link\n",
            "\n",
            "/sbin/ldconfig.real: /usr/local/lib/libur_adapter_level_zero.so.0 is not a symbolic link\n",
            "\n",
            "/sbin/ldconfig.real: /usr/local/lib/libur_adapter_level_zero_v2.so.0 is not a symbolic link\n",
            "\n",
            "/sbin/ldconfig.real: /usr/local/lib/libtbbmalloc.so.2 is not a symbolic link\n",
            "\n",
            "/sbin/ldconfig.real: /usr/local/lib/libur_adapter_opencl.so.0 is not a symbolic link\n",
            "\n",
            "/sbin/ldconfig.real: /usr/local/lib/libtbbmalloc_proxy.so.2 is not a symbolic link\n",
            "\n",
            "/sbin/ldconfig.real: /usr/local/lib/libtcm_debug.so.1 is not a symbolic link\n",
            "\n",
            "/sbin/ldconfig.real: /usr/local/lib/libumf.so.0 is not a symbolic link\n",
            "\n",
            "/sbin/ldconfig.real: /usr/local/lib/libtbbbind_2_0.so.3 is not a symbolic link\n",
            "\n",
            "Processing triggers for man-db (2.10.2-1) ...\n"
          ]
        }
      ],
      "source": [
        "!pip install Biopython\n",
        "!apt-get install -y clustalo"
      ]
    },
    {
      "cell_type": "code",
      "source": [
        "#Step 2:Import modules\n",
        "from Bio import SeqIO, AlignIO\n",
        "from Bio.Seq import Seq\n",
        "from Bio.SeqRecord import SeqRecord\n",
        "from collections import Counter\n",
        "import subprocess"
      ],
      "metadata": {
        "id": "kep0UHm0RWN1"
      },
      "execution_count": null,
      "outputs": []
    },
    {
      "cell_type": "code",
      "source": [
        "# Step 3: Define Protein Sequences and write to FASTA files\n",
        "\n",
        "# We use three cytochrome c protein sequences from different species for alignment. These are:\n",
        "# - Human (*Homo sapiens*)\n",
        "# - Chimpanzee (*Pan troglodytes*)\n",
        "# - Mouse (*Mus musculus*)\n",
        "\n",
        "sequences = [\n",
        "    SeqRecord(Seq(\"MVLTIYPDELVQIVSDKK\"), id=\"seq1\", description=\"\"),\n",
        "    SeqRecord(Seq(\"MVLTIYPDELVQIVTDKK\"), id=\"seq2\", description=\"\"),\n",
        "    SeqRecord(Seq(\"MVLTVYPDELVQIVSDKK\"), id=\"seq3\", description=\"\")\n",
        "]\n",
        "\n",
        "fasta_file = \"input_sequences.fasta\"\n",
        "with open(fasta_file, \"w\") as f:\n",
        "    SeqIO.write(sequences, f, \"fasta\")"
      ],
      "metadata": {
        "id": "T2ETyT0pShkn"
      },
      "execution_count": null,
      "outputs": []
    },
    {
      "cell_type": "code",
      "source": [
        "#Step 4: Run Clustal Omega aligmnet\n",
        "aligned_file = \"aligned_output.fasta\"\n",
        "command = f\"clustalo -i {fasta_file} -o {aligned_file}\"\n",
        "subprocess.run(command, shell=True)"
      ],
      "metadata": {
        "colab": {
          "base_uri": "https://localhost:8080/"
        },
        "id": "HYW9ZGgLUk3f",
        "outputId": "0eb59181-cf2d-454a-cb2f-5812e9ef368e"
      },
      "execution_count": null,
      "outputs": [
        {
          "output_type": "execute_result",
          "data": {
            "text/plain": [
              "CompletedProcess(args='clustalo -i input_sequences.fasta -o aligned_output.fasta', returncode=0)"
            ]
          },
          "metadata": {},
          "execution_count": 6
        }
      ]
    },
    {
      "cell_type": "code",
      "source": [
        "#Step 5 :Read and display aligned sequences\n",
        "alignment = AlignIO.read(aligned_file, \"fasta\")\n",
        "print(\"\\nAligned Sequences:\")\n",
        "for record in alignment:\n",
        "    print(f\"{record.id}: {record.seq}\")"
      ],
      "metadata": {
        "colab": {
          "base_uri": "https://localhost:8080/"
        },
        "id": "Gb0372dbVFGW",
        "outputId": "7cdda840-9cd2-40a4-9aa4-8f78621b603c"
      },
      "execution_count": null,
      "outputs": [
        {
          "output_type": "stream",
          "name": "stdout",
          "text": [
            "\n",
            "Aligned Sequences:\n",
            "seq1: MVLTIYPDELVQIVSDKK\n",
            "seq2: MVLTIYPDELVQIVTDKK\n",
            "seq3: MVLTVYPDELVQIVSDKK\n"
          ]
        }
      ]
    },
    {
      "cell_type": "code",
      "source": [
        "#Step 6: Save aligned sequences in CLUSTAL format\n",
        "AlignIO.write(alignment,\"aligned_output.aln\", \"clustal\")"
      ],
      "metadata": {
        "colab": {
          "base_uri": "https://localhost:8080/"
        },
        "id": "g9PgzHPPV8Zy",
        "outputId": "0289a626-77f6-415a-dfa7-3f0cb01c7a22"
      },
      "execution_count": null,
      "outputs": [
        {
          "output_type": "execute_result",
          "data": {
            "text/plain": [
              "1"
            ]
          },
          "metadata": {},
          "execution_count": 9
        }
      ]
    },
    {
      "cell_type": "code",
      "source": [
        "# Step 7: Identify conserved positions\n",
        "print(\"\\nConserved Positions:\")\n",
        "for i in range(len(alignment[0].seq)):\n",
        "    column = [record.seq[i] for record in alignment]\n",
        "    counts = Counter(column)\n",
        "    if len(counts) == 1:\n",
        "      print(f\"Position {i+1}: {column[0]}\")"
      ],
      "metadata": {
        "colab": {
          "base_uri": "https://localhost:8080/"
        },
        "id": "igrnWHM_WgRo",
        "outputId": "69491676-b7cb-4f25-ec0f-d8d753fe26f4"
      },
      "execution_count": null,
      "outputs": [
        {
          "output_type": "stream",
          "name": "stdout",
          "text": [
            "\n",
            "Conserved Positions:\n",
            "Position 1: M\n",
            "Position 2: V\n",
            "Position 3: L\n",
            "Position 4: T\n",
            "Position 6: Y\n",
            "Position 7: P\n",
            "Position 8: D\n",
            "Position 9: E\n",
            "Position 10: L\n",
            "Position 11: V\n",
            "Position 12: Q\n",
            "Position 13: I\n",
            "Position 14: V\n",
            "Position 16: D\n",
            "Position 17: K\n",
            "Position 18: K\n"
          ]
        }
      ]
    },
    {
      "cell_type": "code",
      "source": [
        "# Step 8: Heatmap of conservation across alignment\n",
        "import matplotlib.pyplot as plt\n",
        "import seaborn as sns\n",
        "import numpy as np"
      ],
      "metadata": {
        "id": "zVxRRRWjXzdZ"
      },
      "execution_count": null,
      "outputs": []
    },
    {
      "cell_type": "code",
      "source": [
        "# Build a matrix of character frequencies per column\n",
        "alignment_array = np.array([list(rec.seq) for rec in alignment])\n",
        "num_seqs, seq_len = alignment_array.shape"
      ],
      "metadata": {
        "id": "wUvkb02BYgbS"
      },
      "execution_count": null,
      "outputs": []
    },
    {
      "cell_type": "code",
      "source": [
        "# Count most common characters per column\n",
        "conservation_scores = []\n",
        "for i in range(seq_len):\n",
        "    column = alignment_array[:, i]\n",
        "    counts = Counter(column)\n",
        "    most_common = counts.most_common(1)[0][1]\n",
        "    score = most_common / num_seqs\n",
        "    conservation_scores.append(score)\n",
        "\n",
        "#Plot conservation\n",
        "plt.figure(figsize=(12, 2))\n",
        "sns.heatmap([conservation_scores], cmap=\"Blues\", cbar=True, xticklabels=False, yticklabels=[\"Conservation\"])\n",
        "plt.xlabel(\"Position\")\n",
        "plt.title(\"Conservation Score Across Alignment Positions\")\n",
        "plt.show()"
      ],
      "metadata": {
        "colab": {
          "base_uri": "https://localhost:8080/",
          "height": 232
        },
        "id": "yYILWuBPZIS-",
        "outputId": "327a77e9-95f3-4f24-98d1-2400143b0741"
      },
      "execution_count": null,
      "outputs": [
        {
          "output_type": "display_data",
          "data": {
            "text/plain": [
              "<Figure size 1200x200 with 2 Axes>"
            ],
            "image/png": "[encoded data removed]"
          },
          "metadata": {}
        }
      ]
    },
    {
      "cell_type": "markdown",
      "metadata": {
        "id": "3d7f0210"
      },
      "source": [
        "## Conclusion\n",
        "\n",
        "- All three sequences used in this assignment represent partial protein sequences of cytochrome c.\n",
        "- Cytochrome c is involved in the mitochondrial electron transport chain.\n",
        "- The multiple sequence alignment shows conserved regions likely important for protein function.\n",
        "- The conservation heatmap visually confirms high similarity among the sequences, especially near the N-terminal."
      ]
    },
    {
      "cell_type": "markdown",
      "metadata": {
        "id": "d692a64b"
      },
      "source": [
        "## Nucleic Acid Sequence Alignment using Clustal Omega\n",
        "In this section, we align three DNA sequences to analyze their conservation and similarities."
      ]
    },
    {
      "cell_type": "code",
      "source": [
        "# Step 1: Install required packages (only needed in Google Colab)\n",
        "!pip install biopython\n",
        "!apt-get install -y clustalo"
      ],
      "metadata": {
        "colab": {
          "base_uri": "https://localhost:8080/"
        },
        "id": "mRt-VDS0wyKC",
        "outputId": "b30430fa-f717-44b0-e7ab-bb73aaa7c3b1"
      },
      "execution_count": null,
      "outputs": [
        {
          "output_type": "stream",
          "name": "stdout",
          "text": [
            "Requirement already satisfied: biopython in /usr/local/lib/python3.11/dist-packages (1.85)\n",
            "Requirement already satisfied: numpy in /usr/local/lib/python3.11/dist-packages (from biopython) (2.0.2)\n",
            "Reading package lists... Done\n",
            "Building dependency tree... Done\n",
            "Reading state information... Done\n",
            "clustalo is already the newest version (1.2.4-7).\n",
            "0 upgraded, 0 newly installed, 0 to remove and 35 not upgraded.\n"
          ]
        }
      ]
    },
    {
      "cell_type": "code",
      "source": [
        "# Step 2: Import necessary libraries\n",
        "from Bio.Seq import Seq\n",
        "from Bio.SeqRecord import SeqRecord\n",
        "from Bio import SeqIO, AlignIO\n",
        "from collections import Counter\n",
        "import subprocess\n",
        "import matplotlib.pyplot as plt\n",
        "import seaborn as sns\n",
        "import numpy as np\n"
      ],
      "metadata": {
        "id": "Rhw9YD_6w2Vj"
      },
      "execution_count": null,
      "outputs": []
    },
    {
      "cell_type": "markdown",
      "metadata": {
        "id": "7a83b8da"
      },
      "source": [
        "## Step 3: Define Cytochrome c Gene (DNA) Sequences\n",
        "\n",
        "Below are the partial nucleotide coding sequences (CDS) of the **cytochrome c gene** from three different species:\n",
        "- Human (*Homo sapiens*)\n",
        "- Chimpanzee (*Pan troglodytes*)\n",
        "- Mouse (*Mus musculus*)"
      ]
    },
    {
      "cell_type": "code",
      "source": [
        "# Step 3: Define nucleic acid sequences for cytochrome c gene\n",
        "# These are partial CDS regions of the cytochrome c gene from different species\n",
        "dna_sequences = [\n",
        "    SeqRecord(Seq(\"ATGGTTCTGACATTTATCCCGACGAGCTGGTGCAAATTGTCTGATAAAA\"), id=\"dna_seq1\", description=\"Cytochrome c - Human\"),\n",
        "    SeqRecord(Seq(\"ATGGTTCTGACATTTATCCCGACGAGCTGGTGCAAATTGTCTGATAAAG\"), id=\"dna_seq2\", description=\"Cytochrome c - Chimpanzee\"),\n",
        "    SeqRecord(Seq(\"ATGGTTCTGACATTTACCCCGACGAGCTGGTGCAAATTGTCTGATAAAA\"), id=\"dna_seq3\", description=\"Cytochrome c - Mouse\")\n",
        "]"
      ],
      "metadata": {
        "id": "4m6rB1glxZRK"
      },
      "execution_count": null,
      "outputs": []
    },
    {
      "cell_type": "code",
      "source": [
        "# Step 4: Write sequences to FASTA\n",
        "dna_fasta_file = \"dna_sequences.fasta\"\n",
        "with open(dna_fasta_file, \"w\") as f:\n",
        "    SeqIO.write(dna_sequences, f, \"fasta\")\n"
      ],
      "metadata": {
        "id": "nEVdQVoQxkx-"
      },
      "execution_count": null,
      "outputs": []
    },
    {
      "cell_type": "code",
      "source": [
        "# Step 5: Run Clustal Omega\n",
        "aligned_dna_file = \"dna_aligned_output.fasta\"\n",
        "command = f\"clustalo -i {dna_fasta_file} -o {aligned_dna_file}\"\n",
        "subprocess.run(command, shell=True)"
      ],
      "metadata": {
        "colab": {
          "base_uri": "https://localhost:8080/"
        },
        "id": "o8AgWzpkxq3j",
        "outputId": "ff577b9c-8076-4251-f2d3-51bd231f9a99"
      },
      "execution_count": null,
      "outputs": [
        {
          "output_type": "execute_result",
          "data": {
            "text/plain": [
              "CompletedProcess(args='clustalo -i dna_sequences.fasta -o dna_aligned_output.fasta', returncode=0)"
            ]
          },
          "metadata": {},
          "execution_count": 33
        }
      ]
    },
    {
      "cell_type": "code",
      "source": [
        "# Step 6: Read aligned output\n",
        "dna_alignment = AlignIO.read(aligned_dna_file, \"fasta\")\n",
        "print(\"\\nDNA Aligned Sequences:\")\n",
        "for record in dna_alignment:\n",
        "    print(f\"{record.id}: {record.seq}\")"
      ],
      "metadata": {
        "colab": {
          "base_uri": "https://localhost:8080/"
        },
        "id": "nzifpQjcxu3W",
        "outputId": "2cfb5591-bfcb-4e6b-a835-d0ad11de990c"
      },
      "execution_count": null,
      "outputs": [
        {
          "output_type": "stream",
          "name": "stdout",
          "text": [
            "\n",
            "DNA Aligned Sequences:\n",
            "dna_seq1: ATGGTTCTGACATTTATCCCGACGAGCTGGTGCAAATTGTCTGATAAAA\n",
            "dna_seq2: ATGGTTCTGACATTTATCCCGACGAGCTGGTGCAAATTGTCTGATAAAG\n",
            "dna_seq3: ATGGTTCTGACATTTACCCCGACGAGCTGGTGCAAATTGTCTGATAAAA\n"
          ]
        }
      ]
    },
    {
      "cell_type": "code",
      "source": [
        "# Step 7: Identify conserved positions\n",
        "print(\"\\nConserved Positions:\")\n",
        "for i in range(len(dna_alignment[0].seq)):\n",
        "    column = [record.seq[i] for record in dna_alignment]\n",
        "    counts = Counter(column)\n",
        "    if len(counts) == 1:\n",
        "        print(f\"Position {i+1}: {column[0]}\")"
      ],
      "metadata": {
        "colab": {
          "base_uri": "https://localhost:8080/"
        },
        "id": "a4pO4dmnxzvu",
        "outputId": "10c8bf7e-79ba-4a0d-a3ff-d7559eb598e4"
      },
      "execution_count": null,
      "outputs": [
        {
          "output_type": "stream",
          "name": "stdout",
          "text": [
            "\n",
            "Conserved Positions:\n",
            "Position 1: A\n",
            "Position 2: T\n",
            "Position 3: G\n",
            "Position 4: G\n",
            "Position 5: T\n",
            "Position 6: T\n",
            "Position 7: C\n",
            "Position 8: T\n",
            "Position 9: G\n",
            "Position 10: A\n",
            "Position 11: C\n",
            "Position 12: A\n",
            "Position 13: T\n",
            "Position 14: T\n",
            "Position 15: T\n",
            "Position 16: A\n",
            "Position 18: C\n",
            "Position 19: C\n",
            "Position 20: C\n",
            "Position 21: G\n",
            "Position 22: A\n",
            "Position 23: C\n",
            "Position 24: G\n",
            "Position 25: A\n",
            "Position 26: G\n",
            "Position 27: C\n",
            "Position 28: T\n",
            "Position 29: G\n",
            "Position 30: G\n",
            "Position 31: T\n",
            "Position 32: G\n",
            "Position 33: C\n",
            "Position 34: A\n",
            "Position 35: A\n",
            "Position 36: A\n",
            "Position 37: T\n",
            "Position 38: T\n",
            "Position 39: G\n",
            "Position 40: T\n",
            "Position 41: C\n",
            "Position 42: T\n",
            "Position 43: G\n",
            "Position 44: A\n",
            "Position 45: T\n",
            "Position 46: A\n",
            "Position 47: A\n",
            "Position 48: A\n"
          ]
        }
      ]
    },
    {
      "cell_type": "code",
      "source": [
        "# Step 8: Plot conservation heatmap\n",
        "alignment_array = np.array([list(rec.seq) for rec in dna_alignment])\n",
        "num_seqs, seq_len = alignment_array.shape\n",
        "\n",
        "conservation_scores = []\n",
        "for i in range(seq_len):\n",
        "    column = alignment_array[:, i]\n",
        "    counts = Counter(column)\n",
        "    most_common = counts.most_common(1)[0][1]\n",
        "    score = most_common / num_seqs\n",
        "    conservation_scores.append(score)\n",
        "\n",
        "plt.figure(figsize=(12, 2))\n",
        "sns.heatmap([conservation_scores], cmap=\"Greens\", cbar=True, xticklabels=False, yticklabels=[\"Conservation\"])\n",
        "plt.xlabel(\"Position\")\n",
        "plt.title(\"Conservation Score Across DNA Alignment Positions\")\n",
        "plt.show()"
      ],
      "metadata": {
        "colab": {
          "base_uri": "https://localhost:8080/",
          "height": 232
        },
        "id": "YEROE5m1yF7k",
        "outputId": "072948b9-6155-4d60-a66f-86389f478110"
      },
      "execution_count": null,
      "outputs": [
        {
          "output_type": "display_data",
          "data": {
            "text/plain": [
              "<Figure size 1200x200 with 2 Axes>"
            ],
            "image/png": "[encoded data removed]"
          },
          "metadata": {}
        }
      ]
    },
    {
      "cell_type": "markdown",
      "metadata": {
        "id": "67200c10"
      },
      "source": [
        "## Conclusion (DNA Alignment)\n",
        "\n",
        "- The DNA sequences represent partial coding regions of the cytochrome c gene from three species.\n",
        "- The alignment shows high conservation across most positions, especially between human and chimpanzee.\n",
        "- The heatmap highlights conserved and variable regions, useful for studying evolutionary changes at the genetic level."
      ]
    }
  ]
}